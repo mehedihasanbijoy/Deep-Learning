{
 "cells": [
  {
   "cell_type": "markdown",
   "metadata": {},
   "source": [
    "## Data Preprocesing"
   ]
  },
  {
   "cell_type": "code",
   "execution_count": 5,
   "metadata": {},
   "outputs": [],
   "source": [
    "import pandas as pd\n",
    "\n",
    "dataset = pd.read_csv('Datasets/Churn_Modelling.csv')\n",
    "\n",
    "geography = pd.get_dummies(dataset['Geography'], drop_first = True)\n",
    "dataset.drop(['Geography'], axis = 1, inplace = True)\n",
    "dataset = pd.concat([dataset, geography], axis = 1)\n",
    "\n",
    "gender = pd.get_dummies(dataset['Gender'], drop_first = True)\n",
    "dataset.drop(['Gender'], axis = 1, inplace = True)\n",
    "dataset = pd.concat([dataset, gender], axis = 1)"
   ]
  },
  {
   "cell_type": "code",
   "execution_count": 8,
   "metadata": {},
   "outputs": [
    {
     "data": {
      "text/html": [
       "<div>\n",
       "<style scoped>\n",
       "    .dataframe tbody tr th:only-of-type {\n",
       "        vertical-align: middle;\n",
       "    }\n",
       "\n",
       "    .dataframe tbody tr th {\n",
       "        vertical-align: top;\n",
       "    }\n",
       "\n",
       "    .dataframe thead th {\n",
       "        text-align: right;\n",
       "    }\n",
       "</style>\n",
       "<table border=\"1\" class=\"dataframe\">\n",
       "  <thead>\n",
       "    <tr style=\"text-align: right;\">\n",
       "      <th></th>\n",
       "      <th>RowNumber</th>\n",
       "      <th>CustomerId</th>\n",
       "      <th>Surname</th>\n",
       "      <th>CreditScore</th>\n",
       "      <th>Age</th>\n",
       "      <th>Tenure</th>\n",
       "      <th>Balance</th>\n",
       "      <th>NumOfProducts</th>\n",
       "      <th>HasCrCard</th>\n",
       "      <th>IsActiveMember</th>\n",
       "      <th>EstimatedSalary</th>\n",
       "      <th>Exited</th>\n",
       "      <th>Germany</th>\n",
       "      <th>Spain</th>\n",
       "      <th>Male</th>\n",
       "    </tr>\n",
       "  </thead>\n",
       "  <tbody>\n",
       "    <tr>\n",
       "      <th>0</th>\n",
       "      <td>1</td>\n",
       "      <td>15634602</td>\n",
       "      <td>Hargrave</td>\n",
       "      <td>619</td>\n",
       "      <td>42</td>\n",
       "      <td>2</td>\n",
       "      <td>0.00</td>\n",
       "      <td>1</td>\n",
       "      <td>1</td>\n",
       "      <td>1</td>\n",
       "      <td>101348.88</td>\n",
       "      <td>1</td>\n",
       "      <td>0</td>\n",
       "      <td>0</td>\n",
       "      <td>0</td>\n",
       "    </tr>\n",
       "    <tr>\n",
       "      <th>1</th>\n",
       "      <td>2</td>\n",
       "      <td>15647311</td>\n",
       "      <td>Hill</td>\n",
       "      <td>608</td>\n",
       "      <td>41</td>\n",
       "      <td>1</td>\n",
       "      <td>83807.86</td>\n",
       "      <td>1</td>\n",
       "      <td>0</td>\n",
       "      <td>1</td>\n",
       "      <td>112542.58</td>\n",
       "      <td>0</td>\n",
       "      <td>0</td>\n",
       "      <td>1</td>\n",
       "      <td>0</td>\n",
       "    </tr>\n",
       "    <tr>\n",
       "      <th>2</th>\n",
       "      <td>3</td>\n",
       "      <td>15619304</td>\n",
       "      <td>Onio</td>\n",
       "      <td>502</td>\n",
       "      <td>42</td>\n",
       "      <td>8</td>\n",
       "      <td>159660.80</td>\n",
       "      <td>3</td>\n",
       "      <td>1</td>\n",
       "      <td>0</td>\n",
       "      <td>113931.57</td>\n",
       "      <td>1</td>\n",
       "      <td>0</td>\n",
       "      <td>0</td>\n",
       "      <td>0</td>\n",
       "    </tr>\n",
       "    <tr>\n",
       "      <th>3</th>\n",
       "      <td>4</td>\n",
       "      <td>15701354</td>\n",
       "      <td>Boni</td>\n",
       "      <td>699</td>\n",
       "      <td>39</td>\n",
       "      <td>1</td>\n",
       "      <td>0.00</td>\n",
       "      <td>2</td>\n",
       "      <td>0</td>\n",
       "      <td>0</td>\n",
       "      <td>93826.63</td>\n",
       "      <td>0</td>\n",
       "      <td>0</td>\n",
       "      <td>0</td>\n",
       "      <td>0</td>\n",
       "    </tr>\n",
       "    <tr>\n",
       "      <th>4</th>\n",
       "      <td>5</td>\n",
       "      <td>15737888</td>\n",
       "      <td>Mitchell</td>\n",
       "      <td>850</td>\n",
       "      <td>43</td>\n",
       "      <td>2</td>\n",
       "      <td>125510.82</td>\n",
       "      <td>1</td>\n",
       "      <td>1</td>\n",
       "      <td>1</td>\n",
       "      <td>79084.10</td>\n",
       "      <td>0</td>\n",
       "      <td>0</td>\n",
       "      <td>1</td>\n",
       "      <td>0</td>\n",
       "    </tr>\n",
       "  </tbody>\n",
       "</table>\n",
       "</div>"
      ],
      "text/plain": [
       "   RowNumber  CustomerId   Surname  CreditScore  Age  Tenure    Balance  \\\n",
       "0          1    15634602  Hargrave          619   42       2       0.00   \n",
       "1          2    15647311      Hill          608   41       1   83807.86   \n",
       "2          3    15619304      Onio          502   42       8  159660.80   \n",
       "3          4    15701354      Boni          699   39       1       0.00   \n",
       "4          5    15737888  Mitchell          850   43       2  125510.82   \n",
       "\n",
       "   NumOfProducts  HasCrCard  IsActiveMember  EstimatedSalary  Exited  Germany  \\\n",
       "0              1          1               1        101348.88       1        0   \n",
       "1              1          0               1        112542.58       0        0   \n",
       "2              3          1               0        113931.57       1        0   \n",
       "3              2          0               0         93826.63       0        0   \n",
       "4              1          1               1         79084.10       0        0   \n",
       "\n",
       "   Spain  Male  \n",
       "0      0     0  \n",
       "1      1     0  \n",
       "2      0     0  \n",
       "3      0     0  \n",
       "4      1     0  "
      ]
     },
     "execution_count": 8,
     "metadata": {},
     "output_type": "execute_result"
    }
   ],
   "source": [
    "dataset.head()"
   ]
  },
  {
   "cell_type": "markdown",
   "metadata": {},
   "source": [
    "## Define Training Set & Test Set & Scale the Data"
   ]
  },
  {
   "cell_type": "code",
   "execution_count": 10,
   "metadata": {},
   "outputs": [],
   "source": [
    "from sklearn.model_selection import train_test_split\n",
    "from sklearn.preprocessing import StandardScaler\n",
    "\n",
    "y = dataset['Exited'].values\n",
    "dataset.drop('Exited', axis = 1, inplace = True)\n",
    "\n",
    "X = dataset.iloc[:, 3:].values\n",
    "\n",
    "X_train, X_test, y_train, y_test = train_test_split(X, y, test_size = .2, random_state = 0)\n",
    "\n",
    "sc_X = StandardScaler()\n",
    "X_train = sc_X.fit_transform(X_train)\n",
    "X_test = sc_X.fit_transform(X_test)"
   ]
  },
  {
   "cell_type": "markdown",
   "metadata": {},
   "source": [
    "## Create a Simple ANN"
   ]
  },
  {
   "cell_type": "code",
   "execution_count": 13,
   "metadata": {},
   "outputs": [
    {
     "name": "stdout",
     "output_type": "stream",
     "text": [
      "Epoch 1/10\n",
      "8000/8000 [==============================] - 2s 211us/step - loss: 0.5602 - accuracy: 0.7943\n",
      "Epoch 2/10\n",
      "8000/8000 [==============================] - 1s 157us/step - loss: 0.4355 - accuracy: 0.7960\n",
      "Epoch 3/10\n",
      "8000/8000 [==============================] - 1s 154us/step - loss: 0.4298 - accuracy: 0.7960\n",
      "Epoch 4/10\n",
      "8000/8000 [==============================] - 1s 147us/step - loss: 0.4267 - accuracy: 0.7960\n",
      "Epoch 5/10\n",
      "8000/8000 [==============================] - 1s 149us/step - loss: 0.4239 - accuracy: 0.7960\n",
      "Epoch 6/10\n",
      "8000/8000 [==============================] - 1s 151us/step - loss: 0.4213 - accuracy: 0.7960\n",
      "Epoch 7/10\n",
      "8000/8000 [==============================] - 1s 150us/step - loss: 0.4191 - accuracy: 0.8129\n",
      "Epoch 8/10\n",
      "8000/8000 [==============================] - 1s 151us/step - loss: 0.4172 - accuracy: 0.8239\n",
      "Epoch 9/10\n",
      "8000/8000 [==============================] - 1s 152us/step - loss: 0.4160 - accuracy: 0.8254\n",
      "Epoch 10/10\n",
      "8000/8000 [==============================] - 1s 157us/step - loss: 0.4145 - accuracy: 0.8286\n"
     ]
    },
    {
     "data": {
      "text/plain": [
       "<keras.callbacks.callbacks.History at 0x2de9979d408>"
      ]
     },
     "execution_count": 13,
     "metadata": {},
     "output_type": "execute_result"
    }
   ],
   "source": [
    "import keras\n",
    "from keras.models import Sequential\n",
    "from keras.layers import Dense\n",
    "\n",
    "ann_classifier = Sequential()\n",
    "ann_classifier.add(Dense(units = 6, activation = 'relu', kernel_initializer = 'uniform', input_dim = 11))\n",
    "ann_classifier.add(Dense(units = 6, activation = 'relu', kernel_initializer = 'uniform'))\n",
    "ann_classifier.add(Dense(units = 1, activation = 'sigmoid', kernel_initializer = 'uniform'))\n",
    "ann_classifier.compile(optimizer = 'adam', loss = 'binary_crossentropy', metrics = ['accuracy'])\n",
    "\n",
    "ann_classifier.fit(X_train, y_train, batch_size = 24, epochs = 10)"
   ]
  },
  {
   "cell_type": "markdown",
   "metadata": {},
   "source": [
    "## Measure Performance"
   ]
  },
  {
   "cell_type": "code",
   "execution_count": 19,
   "metadata": {},
   "outputs": [
    {
     "name": "stdout",
     "output_type": "stream",
     "text": [
      "confusion matrix:\n",
      "[[1573   22]\n",
      " [ 315   90]]\n",
      "accuray score : 0.8315\n"
     ]
    }
   ],
   "source": [
    "from sklearn.metrics import accuracy_score, confusion_matrix\n",
    "\n",
    "y_pred = ann_classifier.predict(X_test) > .5\n",
    "\n",
    "print(f'confusion matrix:\\n{confusion_matrix(y_test, y_pred)}')\n",
    "print(f'accuray score : {accuracy_score(y_test, y_pred)}')"
   ]
  },
  {
   "cell_type": "markdown",
   "metadata": {},
   "source": [
    "## Apply K-Fold Cross Validation"
   ]
  },
  {
   "cell_type": "code",
   "execution_count": 29,
   "metadata": {},
   "outputs": [
    {
     "name": "stdout",
     "output_type": "stream",
     "text": [
      "Epoch 1/2\n",
      "5333/5333 [==============================] - 2s 385us/step - loss: 0.5007 - accuracy: 0.7980\n",
      "Epoch 2/2\n",
      "5333/5333 [==============================] - 2s 366us/step - loss: 0.4305 - accuracy: 0.7980\n",
      "2667/2667 [==============================] - 0s 154us/step\n",
      "Epoch 1/2\n",
      "5333/5333 [==============================] - 2s 373us/step - loss: 0.5161 - accuracy: 0.7930\n",
      "Epoch 2/2\n",
      "5333/5333 [==============================] - 2s 364us/step - loss: 0.4330 - accuracy: 0.7935\n",
      "2667/2667 [==============================] - 0s 154us/step\n",
      "Epoch 1/2\n",
      "5334/5334 [==============================] - 2s 375us/step - loss: 0.5067 - accuracy: 0.7960\n",
      "Epoch 2/2\n",
      "5334/5334 [==============================] - 2s 325us/step - loss: 0.4308 - accuracy: 0.7964\n",
      "2666/2666 [==============================] - 0s 160us/step\n"
     ]
    }
   ],
   "source": [
    "from keras.wrappers.scikit_learn import KerasClassifier\n",
    "from sklearn.model_selection import cross_val_score\n",
    "\n",
    "def build_ann_classifier():\n",
    "    ann_classifier = Sequential()\n",
    "    ann_classifier.add(Dense(units = 6, activation = 'relu', kernel_initializer = 'uniform', input_dim = 11))\n",
    "    ann_classifier.add(Dense(units = 6, activation = 'relu', kernel_initializer = 'uniform'))\n",
    "    ann_classifier.add(Dense(units = 1, activation = 'sigmoid', kernel_initializer = 'uniform'))\n",
    "    ann_classifier.compile(optimizer = 'adam', loss = 'binary_crossentropy', metrics = ['accuracy'])\n",
    "    return ann_classifier\n",
    "\n",
    "ann_classifier_2 = KerasClassifier(build_fn = build_ann_classifier, batch_size = 10, epochs = 2)\n",
    "accuracies = cross_val_score(estimator = ann_classifier_2, X = X_train, y = y_train, cv = 3)"
   ]
  },
  {
   "cell_type": "code",
   "execution_count": 32,
   "metadata": {},
   "outputs": [
    {
     "name": "stdout",
     "output_type": "stream",
     "text": [
      "accuracy mean: 0.7959998846054077\n",
      "std deviation: 0.003717187443768525\n"
     ]
    }
   ],
   "source": [
    "print(f'accuracy mean: {accuracies.mean()}')\n",
    "print(f'std deviation: {accuracies.std()}')\n"
   ]
  }
 ],
 "metadata": {
  "kernelspec": {
   "display_name": "Python 3",
   "language": "python",
   "name": "python3"
  },
  "language_info": {
   "codemirror_mode": {
    "name": "ipython",
    "version": 3
   },
   "file_extension": ".py",
   "mimetype": "text/x-python",
   "name": "python",
   "nbconvert_exporter": "python",
   "pygments_lexer": "ipython3",
   "version": "3.7.7"
  }
 },
 "nbformat": 4,
 "nbformat_minor": 4
}
